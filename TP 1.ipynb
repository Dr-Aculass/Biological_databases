{
 "cells": [
  {
   "cell_type": "markdown",
   "metadata": {},
   "source": [
    "## Ex. 1 A string is a ordered collection of symbols and its length is the number of symbols contained in the collection. DNA is basically a string composed of 4 types of character, called nucleotides : ’A’, ’C’, ’T’ and ’G’.\n",
    "\n",
    "#### Given : A DNA string s of variable length\n",
    "#### Output : Four integers separated by space counting the number of times ’A’, ’C’, ’T’ and ’G’ occurs in s"
   ]
  },
  {
   "cell_type": "code",
   "execution_count": 5,
   "metadata": {},
   "outputs": [
    {
     "name": "stdout",
     "output_type": "stream",
     "text": [
      "Il y a 4 A in our sequence\n",
      "Il y a 4 T in our sequence\n",
      "Il y a 4 C in our sequence\n",
      "Il y a 4 G in our sequence\n"
     ]
    }
   ],
   "source": [
    "def nucleotide_count(x):\n",
    "    count_A = x.count('a') + x.count('A')\n",
    "    count_T = x.count('t') + x.count('T')\n",
    "    count_C = x.count('c') + x.count('C')\n",
    "    count_G = x.count('g') + x.count('G')\n",
    "    print(\"There is \" + str(count_A) + \" A\" + \" in our sequence\")\n",
    "    print(\"There is \" + str(count_T) + \" T\" + \" in our sequence\")\n",
    "    print(\"There is \" + str(count_C) + \" C\" + \" in our sequence\")\n",
    "    print(\"There is \" + str(count_G) + \" G\" + \" in our sequence\")\n",
    "\n",
    "nucleotide_count(\"ATCGATCGATCGATCG\")"
   ]
  },
  {
   "cell_type": "markdown",
   "metadata": {},
   "source": [
    "## Ex. 2 As you are now able to count each type of nucleotide, here is a new problem. GC content varies accross DNA and influences DNA mechanism such as transcription, etc. and can be calculated as follows :\n",
    "\n",
    "#### GC = #C+#G / (total nt)\n",
    "\n",
    "#### Given : A DNA string s of variable length\n",
    "#### Output : A decimal number equal to the GC content of s"
   ]
  },
  {
   "cell_type": "code",
   "execution_count": 19,
   "metadata": {},
   "outputs": [
    {
     "name": "stdout",
     "output_type": "stream",
     "text": [
      "Le ratio de CG est de 50.0%.\n"
     ]
    }
   ],
   "source": [
    "def CG_count(x):\n",
    "    x = str(x)\n",
    "    count_A = x.count('a') + x.count('A')\n",
    "    count_T = x.count('t') + x.count('T')\n",
    "    count_C = x.count('c') + x.count('C')\n",
    "    count_G = x.count('g') + x.count('G')\n",
    "    print (\"Le ratio de CG est de \" + str(100*(count_C+count_G)/len(x)) \n",
    "           + \"%.\")\n",
    "\n",
    "CG_count(\"ATCGATCGATCG\")\n",
    "\n",
    "\n"
   ]
  },
  {
   "cell_type": "markdown",
   "metadata": {},
   "source": [
    "## Ex. 3 RNA is a string also composed of nucleotides. RNA is directly obtained from the DNA by replacing all occurences of ’T’ by ’U’.\n",
    "\n",
    "#### Given : A DNA string s of variable length\n",
    "#### Output : The transcribed RNA string of s"
   ]
  },
  {
   "cell_type": "code",
   "execution_count": 37,
   "metadata": {},
   "outputs": [
    {
     "name": "stdout",
     "output_type": "stream",
     "text": [
      "TAGC\n"
     ]
    }
   ],
   "source": [
    "def DNA_to_RNA(x):\n",
    "    DNA = list(x)\n",
    "    RNA = []\n",
    "    for x in DNA:\n",
    "        if x == \"a\" or x == \"A\":\n",
    "            RNA.append(\"T\")\n",
    "        if x == \"t\" or x == \"T\":\n",
    "            RNA.append(\"A\")\n",
    "        if x == \"c\" or x == \"C\":\n",
    "            RNA.append(\"G\")\n",
    "        if x == \"g\" or x == \"G\":\n",
    "            RNA.append(\"C\")\n",
    "    RNA_str = ''.join(RNA)\n",
    "    print(RNA_str)\n",
    "DNA_to_RNA(\"ATCG\")        "
   ]
  },
  {
   "cell_type": "markdown",
   "metadata": {},
   "source": [
    "## Ex. 4 In DNA, \"A\" and \"T\" are complement of each other, just as \"C\" and \"G\". Reversing complementing a DNA strand is taking the reverse of the strand and replacing each nucleotide by its complement.\n",
    "\n",
    "#### Example : \"AAAACCCGGT\"!\"ACCGGGTTTT\"\n",
    "#### Given : A DNA string s of variable length\n",
    "#### Output : Its reverse complement DNA strand DNAc"
   ]
  },
  {
   "cell_type": "code",
   "execution_count": 1,
   "metadata": {},
   "outputs": [
    {
     "name": "stdout",
     "output_type": "stream",
     "text": [
      "ACCGGGTTTT\n"
     ]
    }
   ],
   "source": [
    "def DNA_to_rRNA(x):\n",
    "    DNA = list(x)\n",
    "    RNA = []\n",
    "    for x in DNA:\n",
    "        if x == \"a\" or x == \"A\":\n",
    "            RNA.append(\"T\")\n",
    "        if x == \"t\" or x == \"T\":\n",
    "            RNA.append(\"A\")\n",
    "        if x == \"c\" or x == \"C\":\n",
    "            RNA.append(\"G\")\n",
    "        if x == \"g\" or x == \"G\":\n",
    "            RNA.append(\"C\")\n",
    "    rRNA = list(reversed(RNA))\n",
    "    rRNA_str = ''.join(rRNA)\n",
    "    print(rRNA_str)\n",
    "DNA_to_rRNA(\"AAAACCCGGT\") "
   ]
  },
  {
   "cell_type": "markdown",
   "metadata": {},
   "source": [
    "## Ex. 5 The Hamming distance is defined as the number of mutations, corresponding symbols that differ, between two DNA sequences.\n",
    "\n",
    "#### Given : Two DNA string s and t of equal length\n",
    "#### Output : The Hamming distance between s and t"
   ]
  },
  {
   "cell_type": "code",
   "execution_count": 40,
   "metadata": {},
   "outputs": [
    {
     "name": "stdout",
     "output_type": "stream",
     "text": [
      "There is 2 mutation for the nucleotide number [2, 3]\n",
      "2\n",
      "[2, 3]\n"
     ]
    }
   ],
   "source": [
    "def Hamming (x,y):\n",
    "    DNA_1 = list(x)\n",
    "    DNA_2 = list(y)\n",
    "    coord=[]\n",
    "    count = 0\n",
    "    for i in range(len(DNA_1)):\n",
    "            if DNA_1[i] == DNA_2[i]:\n",
    "                count += 0\n",
    "            else:\n",
    "                count +=1\n",
    "                coord.append(i)\n",
    "    print(\"There is \" + str(count) + \" mutation for the nucleotide number \" + str(coord))\n",
    "Hamming(\"ATCG\",\"ATAC\")"
   ]
  },
  {
   "cell_type": "markdown",
   "metadata": {},
   "source": [
    "## In the genome, you can find some motif that repeats all across DNA. This represents the problem of finding a substring in a string, the substring being a contiguous collection of symbols in the string. The position of the substring is the total number of symbols found to its left, including itself. For example : ’U’ in \"AUGCUUCAGAAAGGUCUUACG\" are at the positions 2, 5, 6, 15, 17 and 18.\n",
    "\n",
    "#### Given : Two DNA string s and t of variable length\n",
    "#### Output : All locations of t as a substring of s"
   ]
  },
  {
   "cell_type": "code",
   "execution_count": 15,
   "metadata": {},
   "outputs": [
    {
     "name": "stdout",
     "output_type": "stream",
     "text": [
      "We can find our substring at positions \n",
      "2,5,9\n"
     ]
    },
    {
     "data": {
      "text/plain": [
       "[2, 5, 9]"
      ]
     },
     "execution_count": 15,
     "metadata": {},
     "output_type": "execute_result"
    }
   ],
   "source": [
    "def Substring(x,y):\n",
    "    i = y.find(x)\n",
    "    index=[]\n",
    "    while i >= 0:\n",
    "        index.append(i)\n",
    "        i = y.find(x,i+1)\n",
    "    print(\"We can find our substring at positions :\")\n",
    "    print (*index, sep= \",\")\n",
    "    return index\n",
    "Substring(\"AA\",\"AGAATAATTAA\")\n",
    "\n",
    "\n",
    "    "
   ]
  },
  {
   "cell_type": "code",
   "execution_count": 12,
   "metadata": {},
   "outputs": [
    {
     "name": "stdout",
     "output_type": "stream",
     "text": [
      "3\n",
      "3\n"
     ]
    }
   ],
   "source": []
  }
 ],
 "metadata": {
  "kernelspec": {
   "display_name": "Python 3",
   "language": "python",
   "name": "python3"
  },
  "language_info": {
   "codemirror_mode": {
    "name": "ipython",
    "version": 3
   },
   "file_extension": ".py",
   "mimetype": "text/x-python",
   "name": "python",
   "nbconvert_exporter": "python",
   "pygments_lexer": "ipython3",
   "version": "3.6.5rc1"
  }
 },
 "nbformat": 4,
 "nbformat_minor": 1
}
