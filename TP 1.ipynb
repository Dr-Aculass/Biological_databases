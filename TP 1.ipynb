{
 "cells": [
  {
   "cell_type": "code",
   "execution_count": 7,
   "metadata": {
    "collapsed": true
   },
   "outputs": [
    {
     "name": "stdout",
     "output_type": "stream",
     "text": [
      "Il y a 4 A\nIl y a 4 C\nIl y a 4 T\nIl y a 4 G\n"
     ]
    }
   ],
   "source": [
    "def nucleotide_count(x):\n",
    "    str(x)\n",
    "    count_A = x.count('a') + x.count('A')\n",
    "    count_T = x.count('t') + x.count('T')\n",
    "    count_C = x.count('c') + x.count('C')\n",
    "    count_G = x.count('g') + x.count('G')\n",
    "    print(\"Il y a \" + str(count_A) + \" A\")\n",
    "    print(\"Il y a \" + str(count_T) + \" T\")\n",
    "    print(\"Il y a \" + str(count_C) + \" C\")\n",
    "    print(\"Il y a \" + str(count_G) + \" G\")\n",
    "\n",
    "nucleotide_count(\"ATCGATCGATCGATCG\")"
   ]
  },
  {
   "cell_type": "code",
   "execution_count": 19,
   "metadata": {},
   "outputs": [
    {
     "name": "stdout",
     "output_type": "stream",
     "text": [
      "Le ratio de CG est de 50.0%.\n"
     ]
    }
   ],
   "source": [
    "def CG_count(x):\n",
    "    x = str(x)\n",
    "    count_A = x.count('a') + x.count('A')\n",
    "    count_T = x.count('t') + x.count('T')\n",
    "    count_C = x.count('c') + x.count('C')\n",
    "    count_G = x.count('g') + x.count('G')\n",
    "    print (\"Le ratio de CG est de \" + str(100*(count_C+count_G)/len(x)) \n",
    "           + \"%.\")\n",
    "\n",
    "CG_count(\"ATCGATCGATCG\")\n",
    "\n",
    "\n"
   ]
  },
  {
   "cell_type": "code",
   "execution_count": 37,
   "metadata": {},
   "outputs": [
    {
     "name": "stdout",
     "output_type": "stream",
     "text": [
      "TAGC\n"
     ]
    }
   ],
   "source": [
    "def DNA_to_RNA(x):\n",
    "    DNA = list(x)\n",
    "    RNA = []\n",
    "    for x in DNA:\n",
    "        if x == \"a\" or x == \"A\":\n",
    "            RNA.append(\"T\")\n",
    "        if x == \"t\" or x == \"T\":\n",
    "            RNA.append(\"A\")\n",
    "        if x == \"c\" or x == \"C\":\n",
    "            RNA.append(\"G\")\n",
    "        if x == \"g\" or x == \"G\":\n",
    "            RNA.append(\"C\")\n",
    "    RNA_str = ''.join(RNA)\n",
    "    print(RNA_str)\n",
    "DNA_to_RNA(\"ATCG\")        "
   ]
  },
  {
   "cell_type": "code",
   "execution_count": 40,
   "metadata": {},
   "outputs": [
    {
     "name": "stdout",
     "output_type": "stream",
     "text": [
      "ACCGGGTTTT\n"
     ]
    }
   ],
   "source": [
    "def DNA_to_rRNA(x):\n",
    "    DNA = list(x)\n",
    "    RNA = []\n",
    "    for x in DNA:\n",
    "        if x == \"a\" or x == \"A\":\n",
    "            RNA.append(\"T\")\n",
    "        if x == \"t\" or x == \"T\":\n",
    "            RNA.append(\"A\")\n",
    "        if x == \"c\" or x == \"C\":\n",
    "            RNA.append(\"G\")\n",
    "        if x == \"g\" or x == \"G\":\n",
    "            RNA.append(\"C\")\n",
    "    rRNA = list(reversed(RNA))\n",
    "    rRNA_str = ''.join(rRNA)\n",
    "    print(rRNA_str)\n",
    "DNA_to_rRNA(\"AAAACCCGGT\") "
   ]
  },
  {
   "cell_type": "code",
   "execution_count": 40,
   "metadata": {},
   "outputs": [
    {
     "name": "stdout",
     "output_type": "stream",
     "text": [
      "There is 2 mutation for the nucleotide number [2, 3]\n2\n[2, 3]\n"
     ]
    }
   ],
   "source": [
    "def Hamming (x,y):\n",
    "    DNA_1 = list(x)\n",
    "    DNA_2 = list(y)\n",
    "    coord=[]\n",
    "    count = 0\n",
    "    for i in range(len(DNA_1)):\n",
    "            if DNA_1[i] == DNA_2[i]:\n",
    "                count += 0\n",
    "            else:\n",
    "                count +=1\n",
    "                coord.append(i)\n",
    "    print(\"There is \" + str(count) + \" mutation for the nucleotide number \" + str(coord))\n",
    "    print(count)\n",
    "    print(coord)\n",
    "Hamming(\"ATCG\",\"ATAC\")"
   ]
  },
  {
   "cell_type": "code",
   "execution_count": 38,
   "metadata": {},
   "outputs": [
    {
     "data": {
      "text/plain": [
       "[2, 5, 9]"
      ]
     },
     "execution_count": 38,
     "metadata": {},
     "output_type": "execute_result"
    }
   ],
   "source": [
    "def Substring(x,y):\n",
    "    i = y.find(x)\n",
    "    index=[]\n",
    "    while i >= 0:\n",
    "        index.append(i)\n",
    "        i = y.find(x,i+1)\n",
    "    return index\n",
    "Substring(\"AA\",\"AGAATAATTAA\")\n",
    "       \n",
    "    "
   ]
  },
  {
   "cell_type": "code",
   "execution_count": 12,
   "metadata": {},
   "outputs": [
    {
     "name": "stdout",
     "output_type": "stream",
     "text": [
      "3\n3\n"
     ]
    }
   ],
   "source": [
    ""
   ]
  }
 ],
 "metadata": {
  "kernelspec": {
   "display_name": "Python 2",
   "language": "python",
   "name": "python2"
  },
  "language_info": {
   "codemirror_mode": {
    "name": "ipython",
    "version": 2
   },
   "file_extension": ".py",
   "mimetype": "text/x-python",
   "name": "python",
   "nbconvert_exporter": "python",
   "pygments_lexer": "ipython2",
   "version": "2.7.6"
  }
 },
 "nbformat": 4,
 "nbformat_minor": 0
}
