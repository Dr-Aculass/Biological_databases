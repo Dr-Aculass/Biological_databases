{
 "cells": [
  {
   "cell_type": "markdown",
   "metadata": {},
   "source": [
    "# Global alignement : Needleman-wunsch"
   ]
  },
  {
   "cell_type": "code",
   "execution_count": 7,
   "metadata": {},
   "outputs": [
    {
     "name": "stdout",
     "output_type": "stream",
     "text": [
      "_GGVTTF_>\n",
      "MGG_ETFA>\n"
     ]
    }
   ],
   "source": [
    "import numpy as np\n",
    "from Bio.SubsMat import MatrixInfo\n",
    "\n",
    "def needleman_wunsch(seq1, seq2, gap, mat):\n",
    "    n = len(seq1) + 1  # Dimension of matrix column\n",
    "    m = len(seq2) + 1  # Dimension of matrix row\n",
    "    align_matrix = np.zeros((m, n), dtype=int)  # Create a matrix of dimensions (n,m)\n",
    "    #matrix = MatrixInfo.blosum62 # Import the matrix blosum62.\n",
    "    matrix = getattr(MatrixInfo,mat) # Retrieve the matrix referenced.\n",
    "    # Fill the first row elements of the matrix with multiple of gap penalty.\n",
    "    for i in range(m):\n",
    "        align_matrix[i][0] = gap * i\n",
    "        \n",
    "    # Fill the first column elements of the matrix with multiple of gap penalty.    \n",
    "    for j in range(n):\n",
    "        align_matrix[0][j] = gap * j\n",
    "        \n",
    "    # Fill the rest of the matrix.\n",
    "    for i in range(1, m):\n",
    "        for j in range(1, n):\n",
    "            try:\n",
    "                m = matrix[seq1[j-1], seq2[i-1]] # As our keys are only in one way, if we receive a KeyError, we'll switch our key order.\n",
    "            except KeyError:\n",
    "                m = matrix[seq2[i-1], seq1[j-1]]\n",
    "            di = align_matrix[i-1][j-1] + m # Compute the diagonal line\n",
    "            ho = align_matrix[i][j-1] + gap # Compute the horizontal line\n",
    "            ve = align_matrix[i-1][j] + gap # Compute the vertical line\n",
    "            align_matrix[i][j] = max(di, ho, ve) # Choose the max value for the previously computed values.\n",
    "\n",
    "    i = len(seq2) \n",
    "    j = len(seq1) \n",
    "    seq2_t = '>'\n",
    "    seq1_s = '>'\n",
    "    \n",
    "    # Traceback our matrix starting from the end.\n",
    "    while i > 0 and j > 0:\n",
    "        try:\n",
    "            m = matrix[seq1[j-1], seq2[i-1]]\n",
    "        except KeyError:\n",
    "            m = matrix[seq2[i-1], seq1[j-1]]\n",
    "            \n",
    "        if align_matrix[i, j] - m == align_matrix[i-1, j-1]: # Compute the diagonal line\n",
    "            seq2_t = seq2_t + seq2[i-1]\n",
    "            seq1_s = seq1_s + seq1[j-1]\n",
    "            i = i-1\n",
    "            j = j-1\n",
    "\n",
    "        elif align_matrix[i, j] - gap == align_matrix[i, j-1]: # Compute the vertical line\n",
    "            seq1_s = seq1_s + seq1[j-1]\n",
    "            seq2_t = seq2_t + '_'\n",
    "            j = j-1\n",
    "            \n",
    "        elif align_matrix[i, j] - gap == align_matrix[i-1, j]: # Compute the horizontal line\n",
    "            seq1_s = seq1_s + '_'\n",
    "            seq2_t = seq2_t + seq2[i-1]\n",
    "            i = i-1\n",
    "    # If i or j still are > 0, then we'll add enough gaps to arrive at the start of our sequence.        \n",
    "    if i > 0:\n",
    "        while i > 0:\n",
    "            seq1_s = seq1_s + '_'\n",
    "            seq2_t = seq2_t + seq2[i-1]\n",
    "            i = i -1\n",
    "            \n",
    "    elif j > 0:\n",
    "        while j > 0:\n",
    "            seq1_s = seq1_s + seq1[j-1]\n",
    "            seq2_t = seq2_t + '_'\n",
    "            j = j -1\n",
    "\n",
    "    print(seq2_t[::-1])\n",
    "    print(seq1_s[::-1])\n",
    "    \n",
    "needleman_wunsch(seq1=\"MGGETFA\", seq2 =\"GGVTTF\", gap=-4, mat = \"blosum62\")\n"
   ]
  }
 ],
 "metadata": {
  "kernelspec": {
   "display_name": "Python 3",
   "language": "python",
   "name": "python3"
  },
  "language_info": {
   "codemirror_mode": {
    "name": "ipython",
    "version": 3
   },
   "file_extension": ".py",
   "mimetype": "text/x-python",
   "name": "python",
   "nbconvert_exporter": "python",
   "pygments_lexer": "ipython3",
   "version": "3.6.5rc1"
  }
 },
 "nbformat": 4,
 "nbformat_minor": 1
}
